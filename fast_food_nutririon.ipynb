{
 "cells": [
  {
   "attachments": {},
   "cell_type": "markdown",
   "metadata": {},
   "source": [
    "Import packages"
   ]
  },
  {
   "cell_type": "code",
   "execution_count": 5,
   "metadata": {},
   "outputs": [],
   "source": [
    "import numpy as np\n",
    "import pandas as pd\n",
    "from sklearn.cluster import KMeans\n",
    "from sklearn.model_selection import train_test_split\n",
    "import matplotlib.pyplot as plt"
   ]
  },
  {
   "attachments": {},
   "cell_type": "markdown",
   "metadata": {},
   "source": [
    "Read The Data"
   ]
  },
  {
   "attachments": {},
   "cell_type": "markdown",
   "metadata": {},
   "source": [
    "Goal is to Segment Healthy food "
   ]
  },
  {
   "cell_type": "code",
   "execution_count": 13,
   "metadata": {},
   "outputs": [
    {
     "data": {
      "text/html": [
       "<div>\n",
       "<style scoped>\n",
       "    .dataframe tbody tr th:only-of-type {\n",
       "        vertical-align: middle;\n",
       "    }\n",
       "\n",
       "    .dataframe tbody tr th {\n",
       "        vertical-align: top;\n",
       "    }\n",
       "\n",
       "    .dataframe thead th {\n",
       "        text-align: right;\n",
       "    }\n",
       "</style>\n",
       "<table border=\"1\" class=\"dataframe\">\n",
       "  <thead>\n",
       "    <tr style=\"text-align: right;\">\n",
       "      <th></th>\n",
       "      <th>restaurant</th>\n",
       "      <th>item</th>\n",
       "      <th>calories</th>\n",
       "      <th>cal_fat</th>\n",
       "      <th>total_fat</th>\n",
       "      <th>sat_fat</th>\n",
       "      <th>trans_fat</th>\n",
       "      <th>cholesterol</th>\n",
       "      <th>sodium</th>\n",
       "      <th>total_carb</th>\n",
       "      <th>fiber</th>\n",
       "      <th>sugar</th>\n",
       "      <th>protein</th>\n",
       "      <th>vit_a</th>\n",
       "      <th>vit_c</th>\n",
       "      <th>calcium</th>\n",
       "      <th>salad</th>\n",
       "    </tr>\n",
       "  </thead>\n",
       "  <tbody>\n",
       "    <tr>\n",
       "      <th>0</th>\n",
       "      <td>Mcdonalds</td>\n",
       "      <td>Artisan Grilled Chicken Sandwich</td>\n",
       "      <td>380</td>\n",
       "      <td>60</td>\n",
       "      <td>7</td>\n",
       "      <td>2.0</td>\n",
       "      <td>0.0</td>\n",
       "      <td>95</td>\n",
       "      <td>1110</td>\n",
       "      <td>44</td>\n",
       "      <td>3.0</td>\n",
       "      <td>11</td>\n",
       "      <td>37.0</td>\n",
       "      <td>4.0</td>\n",
       "      <td>20.0</td>\n",
       "      <td>20.0</td>\n",
       "      <td>Other</td>\n",
       "    </tr>\n",
       "    <tr>\n",
       "      <th>1</th>\n",
       "      <td>Mcdonalds</td>\n",
       "      <td>Single Bacon Smokehouse Burger</td>\n",
       "      <td>840</td>\n",
       "      <td>410</td>\n",
       "      <td>45</td>\n",
       "      <td>17.0</td>\n",
       "      <td>1.5</td>\n",
       "      <td>130</td>\n",
       "      <td>1580</td>\n",
       "      <td>62</td>\n",
       "      <td>2.0</td>\n",
       "      <td>18</td>\n",
       "      <td>46.0</td>\n",
       "      <td>6.0</td>\n",
       "      <td>20.0</td>\n",
       "      <td>20.0</td>\n",
       "      <td>Other</td>\n",
       "    </tr>\n",
       "    <tr>\n",
       "      <th>2</th>\n",
       "      <td>Mcdonalds</td>\n",
       "      <td>Double Bacon Smokehouse Burger</td>\n",
       "      <td>1130</td>\n",
       "      <td>600</td>\n",
       "      <td>67</td>\n",
       "      <td>27.0</td>\n",
       "      <td>3.0</td>\n",
       "      <td>220</td>\n",
       "      <td>1920</td>\n",
       "      <td>63</td>\n",
       "      <td>3.0</td>\n",
       "      <td>18</td>\n",
       "      <td>70.0</td>\n",
       "      <td>10.0</td>\n",
       "      <td>20.0</td>\n",
       "      <td>50.0</td>\n",
       "      <td>Other</td>\n",
       "    </tr>\n",
       "  </tbody>\n",
       "</table>\n",
       "</div>"
      ],
      "text/plain": [
       "  restaurant                              item  calories  cal_fat  total_fat  \\\n",
       "0  Mcdonalds  Artisan Grilled Chicken Sandwich       380       60          7   \n",
       "1  Mcdonalds    Single Bacon Smokehouse Burger       840      410         45   \n",
       "2  Mcdonalds    Double Bacon Smokehouse Burger      1130      600         67   \n",
       "\n",
       "   sat_fat  trans_fat  cholesterol  sodium  total_carb  fiber  sugar  protein  \\\n",
       "0      2.0        0.0           95    1110          44    3.0     11     37.0   \n",
       "1     17.0        1.5          130    1580          62    2.0     18     46.0   \n",
       "2     27.0        3.0          220    1920          63    3.0     18     70.0   \n",
       "\n",
       "   vit_a  vit_c  calcium  salad  \n",
       "0    4.0   20.0     20.0  Other  \n",
       "1    6.0   20.0     20.0  Other  \n",
       "2   10.0   20.0     50.0  Other  "
      ]
     },
     "execution_count": 13,
     "metadata": {},
     "output_type": "execute_result"
    }
   ],
   "source": [
    "pd.set_option(\"display.max_column\",None)\n",
    "df = pd.read_csv(\"fastfood.csv\")\n",
    "df.head(3)"
   ]
  },
  {
   "cell_type": "code",
   "execution_count": 70,
   "metadata": {},
   "outputs": [
    {
     "data": {
      "text/html": [
       "<div>\n",
       "<style scoped>\n",
       "    .dataframe tbody tr th:only-of-type {\n",
       "        vertical-align: middle;\n",
       "    }\n",
       "\n",
       "    .dataframe tbody tr th {\n",
       "        vertical-align: top;\n",
       "    }\n",
       "\n",
       "    .dataframe thead th {\n",
       "        text-align: right;\n",
       "    }\n",
       "</style>\n",
       "<table border=\"1\" class=\"dataframe\">\n",
       "  <thead>\n",
       "    <tr style=\"text-align: right;\">\n",
       "      <th></th>\n",
       "      <th>restaurant</th>\n",
       "      <th>item</th>\n",
       "      <th>calories</th>\n",
       "      <th>total_fat</th>\n",
       "      <th>cholesterol</th>\n",
       "      <th>sodium</th>\n",
       "      <th>total_carb</th>\n",
       "      <th>fiber</th>\n",
       "      <th>sugar</th>\n",
       "      <th>protein</th>\n",
       "      <th>vit_a</th>\n",
       "      <th>vit_c</th>\n",
       "      <th>calcium</th>\n",
       "      <th>labels</th>\n",
       "    </tr>\n",
       "  </thead>\n",
       "  <tbody>\n",
       "    <tr>\n",
       "      <th>0</th>\n",
       "      <td>Mcdonalds</td>\n",
       "      <td>Artisan Grilled Chicken Sandwich</td>\n",
       "      <td>380</td>\n",
       "      <td>7</td>\n",
       "      <td>95</td>\n",
       "      <td>1110</td>\n",
       "      <td>44</td>\n",
       "      <td>3.0</td>\n",
       "      <td>11</td>\n",
       "      <td>37.0</td>\n",
       "      <td>4.0</td>\n",
       "      <td>20.0</td>\n",
       "      <td>20.0</td>\n",
       "      <td>2</td>\n",
       "    </tr>\n",
       "    <tr>\n",
       "      <th>1</th>\n",
       "      <td>Mcdonalds</td>\n",
       "      <td>Single Bacon Smokehouse Burger</td>\n",
       "      <td>840</td>\n",
       "      <td>45</td>\n",
       "      <td>130</td>\n",
       "      <td>1580</td>\n",
       "      <td>62</td>\n",
       "      <td>2.0</td>\n",
       "      <td>18</td>\n",
       "      <td>46.0</td>\n",
       "      <td>6.0</td>\n",
       "      <td>20.0</td>\n",
       "      <td>20.0</td>\n",
       "      <td>1</td>\n",
       "    </tr>\n",
       "    <tr>\n",
       "      <th>2</th>\n",
       "      <td>Mcdonalds</td>\n",
       "      <td>Double Bacon Smokehouse Burger</td>\n",
       "      <td>1130</td>\n",
       "      <td>67</td>\n",
       "      <td>220</td>\n",
       "      <td>1920</td>\n",
       "      <td>63</td>\n",
       "      <td>3.0</td>\n",
       "      <td>18</td>\n",
       "      <td>70.0</td>\n",
       "      <td>10.0</td>\n",
       "      <td>20.0</td>\n",
       "      <td>50.0</td>\n",
       "      <td>1</td>\n",
       "    </tr>\n",
       "    <tr>\n",
       "      <th>3</th>\n",
       "      <td>Mcdonalds</td>\n",
       "      <td>Grilled Bacon Smokehouse Chicken Sandwich</td>\n",
       "      <td>750</td>\n",
       "      <td>31</td>\n",
       "      <td>155</td>\n",
       "      <td>1940</td>\n",
       "      <td>62</td>\n",
       "      <td>2.0</td>\n",
       "      <td>18</td>\n",
       "      <td>55.0</td>\n",
       "      <td>6.0</td>\n",
       "      <td>25.0</td>\n",
       "      <td>20.0</td>\n",
       "      <td>1</td>\n",
       "    </tr>\n",
       "    <tr>\n",
       "      <th>4</th>\n",
       "      <td>Mcdonalds</td>\n",
       "      <td>Crispy Bacon Smokehouse Chicken Sandwich</td>\n",
       "      <td>920</td>\n",
       "      <td>45</td>\n",
       "      <td>120</td>\n",
       "      <td>1980</td>\n",
       "      <td>81</td>\n",
       "      <td>4.0</td>\n",
       "      <td>18</td>\n",
       "      <td>46.0</td>\n",
       "      <td>6.0</td>\n",
       "      <td>20.0</td>\n",
       "      <td>20.0</td>\n",
       "      <td>1</td>\n",
       "    </tr>\n",
       "  </tbody>\n",
       "</table>\n",
       "</div>"
      ],
      "text/plain": [
       "  restaurant                                       item  calories  total_fat  \\\n",
       "0  Mcdonalds           Artisan Grilled Chicken Sandwich       380          7   \n",
       "1  Mcdonalds             Single Bacon Smokehouse Burger       840         45   \n",
       "2  Mcdonalds             Double Bacon Smokehouse Burger      1130         67   \n",
       "3  Mcdonalds  Grilled Bacon Smokehouse Chicken Sandwich       750         31   \n",
       "4  Mcdonalds   Crispy Bacon Smokehouse Chicken Sandwich       920         45   \n",
       "\n",
       "   cholesterol  sodium  total_carb  fiber  sugar  protein  vit_a  vit_c  \\\n",
       "0           95    1110          44    3.0     11     37.0    4.0   20.0   \n",
       "1          130    1580          62    2.0     18     46.0    6.0   20.0   \n",
       "2          220    1920          63    3.0     18     70.0   10.0   20.0   \n",
       "3          155    1940          62    2.0     18     55.0    6.0   25.0   \n",
       "4          120    1980          81    4.0     18     46.0    6.0   20.0   \n",
       "\n",
       "   calcium  labels  \n",
       "0     20.0       2  \n",
       "1     20.0       1  \n",
       "2     50.0       1  \n",
       "3     20.0       1  \n",
       "4     20.0       1  "
      ]
     },
     "execution_count": 70,
     "metadata": {},
     "output_type": "execute_result"
    }
   ],
   "source": [
    "df.head()"
   ]
  },
  {
   "cell_type": "code",
   "execution_count": 14,
   "metadata": {},
   "outputs": [
    {
     "data": {
      "text/plain": [
       "(515, 17)"
      ]
     },
     "execution_count": 14,
     "metadata": {},
     "output_type": "execute_result"
    }
   ],
   "source": [
    "df.shape"
   ]
  },
  {
   "cell_type": "code",
   "execution_count": 15,
   "metadata": {},
   "outputs": [
    {
     "name": "stdout",
     "output_type": "stream",
     "text": [
      "<class 'pandas.core.frame.DataFrame'>\n",
      "RangeIndex: 515 entries, 0 to 514\n",
      "Data columns (total 17 columns):\n",
      " #   Column       Non-Null Count  Dtype  \n",
      "---  ------       --------------  -----  \n",
      " 0   restaurant   515 non-null    object \n",
      " 1   item         515 non-null    object \n",
      " 2   calories     515 non-null    int64  \n",
      " 3   cal_fat      515 non-null    int64  \n",
      " 4   total_fat    515 non-null    int64  \n",
      " 5   sat_fat      515 non-null    float64\n",
      " 6   trans_fat    515 non-null    float64\n",
      " 7   cholesterol  515 non-null    int64  \n",
      " 8   sodium       515 non-null    int64  \n",
      " 9   total_carb   515 non-null    int64  \n",
      " 10  fiber        503 non-null    float64\n",
      " 11  sugar        515 non-null    int64  \n",
      " 12  protein      514 non-null    float64\n",
      " 13  vit_a        301 non-null    float64\n",
      " 14  vit_c        305 non-null    float64\n",
      " 15  calcium      305 non-null    float64\n",
      " 16  salad        515 non-null    object \n",
      "dtypes: float64(7), int64(7), object(3)\n",
      "memory usage: 68.5+ KB\n"
     ]
    }
   ],
   "source": [
    "df.info()"
   ]
  },
  {
   "attachments": {},
   "cell_type": "markdown",
   "metadata": {},
   "source": [
    "Ckecking Null Values"
   ]
  },
  {
   "cell_type": "code",
   "execution_count": 44,
   "metadata": {},
   "outputs": [
    {
     "data": {
      "text/plain": [
       "{'restaurant': 0,\n",
       " 'item': 0,\n",
       " 'calories': 0,\n",
       " 'total_fat': 0,\n",
       " 'cholesterol': 0,\n",
       " 'sodium': 0,\n",
       " 'total_carb': 0,\n",
       " 'fiber': 0,\n",
       " 'sugar': 0,\n",
       " 'protein': 0,\n",
       " 'vit_a': 0,\n",
       " 'vit_c': 0,\n",
       " 'calcium': 0,\n",
       " 'labels': 0}"
      ]
     },
     "execution_count": 44,
     "metadata": {},
     "output_type": "execute_result"
    }
   ],
   "source": [
    "null_vals = dict(df.isnull().sum())\n",
    "null_vals"
   ]
  },
  {
   "cell_type": "code",
   "execution_count": 16,
   "metadata": {},
   "outputs": [
    {
     "data": {
      "text/plain": [
       "restaurant       0\n",
       "item             0\n",
       "calories         0\n",
       "cal_fat          0\n",
       "total_fat        0\n",
       "sat_fat          0\n",
       "trans_fat        0\n",
       "cholesterol      0\n",
       "sodium           0\n",
       "total_carb       0\n",
       "fiber           12\n",
       "sugar            0\n",
       "protein          1\n",
       "vit_a          214\n",
       "vit_c          210\n",
       "calcium        210\n",
       "salad            0\n",
       "dtype: int64"
      ]
     },
     "execution_count": 16,
     "metadata": {},
     "output_type": "execute_result"
    }
   ],
   "source": [
    "df.isnull().sum()"
   ]
  },
  {
   "cell_type": "code",
   "execution_count": 17,
   "metadata": {},
   "outputs": [
    {
     "data": {
      "text/plain": [
       "{'fiber': 67.14682965168379,\n",
       " 'protein': 102.8843714070368,\n",
       " 'vit_a': 70.6551841488183,\n",
       " 'vit_c': 99.97034180718309,\n",
       " 'calcium': 87.92181644364442}"
      ]
     },
     "execution_count": 17,
     "metadata": {},
     "output_type": "execute_result"
    }
   ],
   "source": [
    "# replace vitamin a ,c and calcium with mean value, for this collecting mean values for these columns\n",
    "null_cols = ['fiber','protein','vit_a','vit_c','calcium']\n",
    "null_cols_avg = {}\n",
    "for col in null_cols:\n",
    "    null_cols_avg[col] = df[col].describe().mean()\n",
    "null_cols_avg"
   ]
  },
  {
   "cell_type": "code",
   "execution_count": 18,
   "metadata": {},
   "outputs": [
    {
     "data": {
      "text/plain": [
       "restaurant     0\n",
       "item           0\n",
       "calories       0\n",
       "cal_fat        0\n",
       "total_fat      0\n",
       "sat_fat        0\n",
       "trans_fat      0\n",
       "cholesterol    0\n",
       "sodium         0\n",
       "total_carb     0\n",
       "fiber          0\n",
       "sugar          0\n",
       "protein        0\n",
       "vit_a          0\n",
       "vit_c          0\n",
       "calcium        0\n",
       "salad          0\n",
       "dtype: int64"
      ]
     },
     "execution_count": 18,
     "metadata": {},
     "output_type": "execute_result"
    }
   ],
   "source": [
    "df.fillna(value=null_cols_avg,inplace=True)\n",
    "df.isnull().sum()"
   ]
  },
  {
   "cell_type": "code",
   "execution_count": 21,
   "metadata": {},
   "outputs": [],
   "source": [
    "df.drop(['salad','cal_fat','sat_fat','trans_fat'],axis=1,inplace=True)"
   ]
  },
  {
   "cell_type": "code",
   "execution_count": 22,
   "metadata": {},
   "outputs": [
    {
     "data": {
      "text/html": [
       "<div>\n",
       "<style scoped>\n",
       "    .dataframe tbody tr th:only-of-type {\n",
       "        vertical-align: middle;\n",
       "    }\n",
       "\n",
       "    .dataframe tbody tr th {\n",
       "        vertical-align: top;\n",
       "    }\n",
       "\n",
       "    .dataframe thead th {\n",
       "        text-align: right;\n",
       "    }\n",
       "</style>\n",
       "<table border=\"1\" class=\"dataframe\">\n",
       "  <thead>\n",
       "    <tr style=\"text-align: right;\">\n",
       "      <th></th>\n",
       "      <th>calories</th>\n",
       "      <th>total_fat</th>\n",
       "      <th>cholesterol</th>\n",
       "      <th>sodium</th>\n",
       "      <th>total_carb</th>\n",
       "      <th>fiber</th>\n",
       "      <th>sugar</th>\n",
       "      <th>protein</th>\n",
       "      <th>vit_a</th>\n",
       "      <th>vit_c</th>\n",
       "      <th>calcium</th>\n",
       "    </tr>\n",
       "  </thead>\n",
       "  <tbody>\n",
       "    <tr>\n",
       "      <th>254</th>\n",
       "      <td>340</td>\n",
       "      <td>21</td>\n",
       "      <td>45</td>\n",
       "      <td>1200</td>\n",
       "      <td>21</td>\n",
       "      <td>1.0</td>\n",
       "      <td>1</td>\n",
       "      <td>16.0</td>\n",
       "      <td>70.655184</td>\n",
       "      <td>99.970342</td>\n",
       "      <td>87.921816</td>\n",
       "    </tr>\n",
       "    <tr>\n",
       "      <th>398</th>\n",
       "      <td>790</td>\n",
       "      <td>32</td>\n",
       "      <td>60</td>\n",
       "      <td>1350</td>\n",
       "      <td>96</td>\n",
       "      <td>4.0</td>\n",
       "      <td>8</td>\n",
       "      <td>38.0</td>\n",
       "      <td>30.000000</td>\n",
       "      <td>4.000000</td>\n",
       "      <td>60.000000</td>\n",
       "    </tr>\n",
       "    <tr>\n",
       "      <th>121</th>\n",
       "      <td>1080</td>\n",
       "      <td>51</td>\n",
       "      <td>75</td>\n",
       "      <td>2390</td>\n",
       "      <td>118</td>\n",
       "      <td>8.0</td>\n",
       "      <td>9</td>\n",
       "      <td>37.0</td>\n",
       "      <td>1.000000</td>\n",
       "      <td>7.000000</td>\n",
       "      <td>13.000000</td>\n",
       "    </tr>\n",
       "  </tbody>\n",
       "</table>\n",
       "</div>"
      ],
      "text/plain": [
       "     calories  total_fat  cholesterol  sodium  total_carb  fiber  sugar  \\\n",
       "254       340         21           45    1200          21    1.0      1   \n",
       "398       790         32           60    1350          96    4.0      8   \n",
       "121      1080         51           75    2390         118    8.0      9   \n",
       "\n",
       "     protein      vit_a      vit_c    calcium  \n",
       "254     16.0  70.655184  99.970342  87.921816  \n",
       "398     38.0  30.000000   4.000000  60.000000  \n",
       "121     37.0   1.000000   7.000000  13.000000  "
      ]
     },
     "execution_count": 22,
     "metadata": {},
     "output_type": "execute_result"
    }
   ],
   "source": [
    "df_seg = df.drop(['restaurant','item'],axis='columns')\n",
    "df_seg.sample(3)"
   ]
  },
  {
   "cell_type": "code",
   "execution_count": 25,
   "metadata": {},
   "outputs": [
    {
     "name": "stderr",
     "output_type": "stream",
     "text": [
      "c:\\Users\\BHOOMIKA C S\\AppData\\Local\\Programs\\Python\\Python311\\Lib\\site-packages\\sklearn\\cluster\\_kmeans.py:870: FutureWarning: The default value of `n_init` will change from 10 to 'auto' in 1.4. Set the value of `n_init` explicitly to suppress the warning\n",
      "  warnings.warn(\n",
      "c:\\Users\\BHOOMIKA C S\\AppData\\Local\\Programs\\Python\\Python311\\Lib\\site-packages\\sklearn\\cluster\\_kmeans.py:870: FutureWarning: The default value of `n_init` will change from 10 to 'auto' in 1.4. Set the value of `n_init` explicitly to suppress the warning\n",
      "  warnings.warn(\n",
      "c:\\Users\\BHOOMIKA C S\\AppData\\Local\\Programs\\Python\\Python311\\Lib\\site-packages\\sklearn\\cluster\\_kmeans.py:870: FutureWarning: The default value of `n_init` will change from 10 to 'auto' in 1.4. Set the value of `n_init` explicitly to suppress the warning\n",
      "  warnings.warn(\n",
      "c:\\Users\\BHOOMIKA C S\\AppData\\Local\\Programs\\Python\\Python311\\Lib\\site-packages\\sklearn\\cluster\\_kmeans.py:870: FutureWarning: The default value of `n_init` will change from 10 to 'auto' in 1.4. Set the value of `n_init` explicitly to suppress the warning\n",
      "  warnings.warn(\n",
      "c:\\Users\\BHOOMIKA C S\\AppData\\Local\\Programs\\Python\\Python311\\Lib\\site-packages\\sklearn\\cluster\\_kmeans.py:870: FutureWarning: The default value of `n_init` will change from 10 to 'auto' in 1.4. Set the value of `n_init` explicitly to suppress the warning\n",
      "  warnings.warn(\n",
      "c:\\Users\\BHOOMIKA C S\\AppData\\Local\\Programs\\Python\\Python311\\Lib\\site-packages\\sklearn\\cluster\\_kmeans.py:870: FutureWarning: The default value of `n_init` will change from 10 to 'auto' in 1.4. Set the value of `n_init` explicitly to suppress the warning\n",
      "  warnings.warn(\n",
      "c:\\Users\\BHOOMIKA C S\\AppData\\Local\\Programs\\Python\\Python311\\Lib\\site-packages\\sklearn\\cluster\\_kmeans.py:870: FutureWarning: The default value of `n_init` will change from 10 to 'auto' in 1.4. Set the value of `n_init` explicitly to suppress the warning\n",
      "  warnings.warn(\n",
      "c:\\Users\\BHOOMIKA C S\\AppData\\Local\\Programs\\Python\\Python311\\Lib\\site-packages\\sklearn\\cluster\\_kmeans.py:870: FutureWarning: The default value of `n_init` will change from 10 to 'auto' in 1.4. Set the value of `n_init` explicitly to suppress the warning\n",
      "  warnings.warn(\n",
      "c:\\Users\\BHOOMIKA C S\\AppData\\Local\\Programs\\Python\\Python311\\Lib\\site-packages\\sklearn\\cluster\\_kmeans.py:870: FutureWarning: The default value of `n_init` will change from 10 to 'auto' in 1.4. Set the value of `n_init` explicitly to suppress the warning\n",
      "  warnings.warn(\n"
     ]
    },
    {
     "name": "stdout",
     "output_type": "stream",
     "text": [
      "[290868806.76346713, 132193797.64424579, 78198573.19120206, 53774068.03445704, 42600515.18340419, 33421568.18818365, 29336001.229746997, 26188869.210913755, 23121253.103140853]\n"
     ]
    }
   ],
   "source": [
    "inertias = []\n",
    "for i in range(1,10):\n",
    "    model = KMeans(n_clusters=i,init=\"k-means++\",random_state=42)\n",
    "    model.fit(df_seg)\n",
    "    inertias.append(model.inertia_)\n",
    "print(inertias)"
   ]
  },
  {
   "attachments": {},
   "cell_type": "markdown",
   "metadata": {},
   "source": [
    "ELBOW Method"
   ]
  },
  {
   "cell_type": "code",
   "execution_count": 26,
   "metadata": {},
   "outputs": [
    {
     "data": {
      "image/png": "[encoded data removed]",
      "text/plain": [
       "<Figure size 640x480 with 1 Axes>"
      ]
     },
     "metadata": {},
     "output_type": "display_data"
    }
   ],
   "source": [
    "plt.plot(inertias)\n",
    "plt.title(\"inertia of Knn model\")\n",
    "plt.xlabel(\"number of clusters\")\n",
    "plt.ylabel(\"inertia\")\n",
    "plt.show()"
   ]
  },
  {
   "attachments": {},
   "cell_type": "markdown",
   "metadata": {},
   "source": [
    "As per elbow method 4 types of clusters are best for our model, that means we can classify foods into 3 types."
   ]
  },
  {
   "cell_type": "code",
   "execution_count": 28,
   "metadata": {},
   "outputs": [
    {
     "name": "stderr",
     "output_type": "stream",
     "text": [
      "c:\\Users\\BHOOMIKA C S\\AppData\\Local\\Programs\\Python\\Python311\\Lib\\site-packages\\sklearn\\cluster\\_kmeans.py:870: FutureWarning: The default value of `n_init` will change from 10 to 'auto' in 1.4. Set the value of `n_init` explicitly to suppress the warning\n",
      "  warnings.warn(\n"
     ]
    },
    {
     "data": {
      "text/html": [
       "<style>#sk-container-id-1 {color: black;background-color: white;}#sk-container-id-1 pre{padding: 0;}#sk-container-id-1 div.sk-toggleable {background-color: white;}#sk-container-id-1 label.sk-toggleable__label {cursor: pointer;display: block;width: 100%;margin-bottom: 0;padding: 0.3em;box-sizing: border-box;text-align: center;}#sk-container-id-1 label.sk-toggleable__label-arrow:before {content: \"▸\";float: left;margin-right: 0.25em;color: #696969;}#sk-container-id-1 label.sk-toggleable__label-arrow:hover:before {color: black;}#sk-container-id-1 div.sk-estimator:hover label.sk-toggleable__label-arrow:before {color: black;}#sk-container-id-1 div.sk-toggleable__content {max-height: 0;max-width: 0;overflow: hidden;text-align: left;background-color: #f0f8ff;}#sk-container-id-1 div.sk-toggleable__content pre {margin: 0.2em;color: black;border-radius: 0.25em;background-color: #f0f8ff;}#sk-container-id-1 input.sk-toggleable__control:checked~div.sk-toggleable__content {max-height: 200px;max-width: 100%;overflow: auto;}#sk-container-id-1 input.sk-toggleable__control:checked~label.sk-toggleable__label-arrow:before {content: \"▾\";}#sk-container-id-1 div.sk-estimator input.sk-toggleable__control:checked~label.sk-toggleable__label {background-color: #d4ebff;}#sk-container-id-1 div.sk-label input.sk-toggleable__control:checked~label.sk-toggleable__label {background-color: #d4ebff;}#sk-container-id-1 input.sk-hidden--visually {border: 0;clip: rect(1px 1px 1px 1px);clip: rect(1px, 1px, 1px, 1px);height: 1px;margin: -1px;overflow: hidden;padding: 0;position: absolute;width: 1px;}#sk-container-id-1 div.sk-estimator {font-family: monospace;background-color: #f0f8ff;border: 1px dotted black;border-radius: 0.25em;box-sizing: border-box;margin-bottom: 0.5em;}#sk-container-id-1 div.sk-estimator:hover {background-color: #d4ebff;}#sk-container-id-1 div.sk-parallel-item::after {content: \"\";width: 100%;border-bottom: 1px solid gray;flex-grow: 1;}#sk-container-id-1 div.sk-label:hover label.sk-toggleable__label {background-color: #d4ebff;}#sk-container-id-1 div.sk-serial::before {content: \"\";position: absolute;border-left: 1px solid gray;box-sizing: border-box;top: 0;bottom: 0;left: 50%;z-index: 0;}#sk-container-id-1 div.sk-serial {display: flex;flex-direction: column;align-items: center;background-color: white;padding-right: 0.2em;padding-left: 0.2em;position: relative;}#sk-container-id-1 div.sk-item {position: relative;z-index: 1;}#sk-container-id-1 div.sk-parallel {display: flex;align-items: stretch;justify-content: center;background-color: white;position: relative;}#sk-container-id-1 div.sk-item::before, #sk-container-id-1 div.sk-parallel-item::before {content: \"\";position: absolute;border-left: 1px solid gray;box-sizing: border-box;top: 0;bottom: 0;left: 50%;z-index: -1;}#sk-container-id-1 div.sk-parallel-item {display: flex;flex-direction: column;z-index: 1;position: relative;background-color: white;}#sk-container-id-1 div.sk-parallel-item:first-child::after {align-self: flex-end;width: 50%;}#sk-container-id-1 div.sk-parallel-item:last-child::after {align-self: flex-start;width: 50%;}#sk-container-id-1 div.sk-parallel-item:only-child::after {width: 0;}#sk-container-id-1 div.sk-dashed-wrapped {border: 1px dashed gray;margin: 0 0.4em 0.5em 0.4em;box-sizing: border-box;padding-bottom: 0.4em;background-color: white;}#sk-container-id-1 div.sk-label label {font-family: monospace;font-weight: bold;display: inline-block;line-height: 1.2em;}#sk-container-id-1 div.sk-label-container {text-align: center;}#sk-container-id-1 div.sk-container {/* jupyter's `normalize.less` sets `[hidden] { display: none; }` but bootstrap.min.css set `[hidden] { display: none !important; }` so we also need the `!important` here to be able to override the default hidden behavior on the sphinx rendered scikit-learn.org. See: https://github.com/scikit-learn/scikit-learn/issues/21755 */display: inline-block !important;position: relative;}#sk-container-id-1 div.sk-text-repr-fallback {display: none;}</style><div id=\"sk-container-id-1\" class=\"sk-top-container\"><div class=\"sk-text-repr-fallback\"><pre>KMeans(n_clusters=4, random_state=42)</pre><b>In a Jupyter environment, please rerun this cell to show the HTML representation or trust the notebook. <br />On GitHub, the HTML representation is unable to render, please try loading this page with nbviewer.org.</b></div><div class=\"sk-container\" hidden><div class=\"sk-item\"><div class=\"sk-estimator sk-toggleable\"><input class=\"sk-toggleable__control sk-hidden--visually\" id=\"sk-estimator-id-1\" type=\"checkbox\" checked><label for=\"sk-estimator-id-1\" class=\"sk-toggleable__label sk-toggleable__label-arrow\">KMeans</label><div class=\"sk-toggleable__content\"><pre>KMeans(n_clusters=4, random_state=42)</pre></div></div></div></div></div>"
      ],
      "text/plain": [
       "KMeans(n_clusters=4, random_state=42)"
      ]
     },
     "execution_count": 28,
     "metadata": {},
     "output_type": "execute_result"
    }
   ],
   "source": [
    "model = KMeans(n_clusters=4,init='k-means++',random_state=42)\n",
    "model.fit(df_seg)"
   ]
  },
  {
   "cell_type": "code",
   "execution_count": 29,
   "metadata": {},
   "outputs": [
    {
     "data": {
      "text/plain": [
       "array([[3.03939394e+02, 1.43838384e+01, 3.88383838e+01, 6.70909091e+02,\n",
       "        2.78939394e+01, 3.36437793e+00, 4.13636364e+00, 1.61666667e+01,\n",
       "        4.29526351e+01, 5.53148018e+01, 4.78331489e+01],\n",
       "       [8.11122449e+02, 4.21530612e+01, 1.22244898e+02, 1.97316327e+03,\n",
       "        6.71734694e+01, 1.04507616e+01, 1.13877551e+01, 4.36416773e+01,\n",
       "        4.03585558e+01, 6.16391400e+01, 6.40959547e+01],\n",
       "       [5.57711443e+02, 2.78109453e+01, 7.09203980e+01, 1.25681592e+03,\n",
       "        4.89950249e+01, 5.35542532e+00, 7.73631841e+00, 2.81542289e+01,\n",
       "        3.93822311e+01, 4.68850461e+01, 4.72808406e+01],\n",
       "       [1.20277778e+03, 6.25000000e+01, 1.88333333e+02, 3.51333333e+03,\n",
       "        8.68333333e+01, 6.66666667e+00, 1.38888889e+01, 7.23333333e+01,\n",
       "        2.33678187e+01, 4.04950570e+01, 4.37647472e+01]])"
      ]
     },
     "execution_count": 29,
     "metadata": {},
     "output_type": "execute_result"
    }
   ],
   "source": [
    "cluster_centers = model.cluster_centers_\n",
    "cluster_centers"
   ]
  },
  {
   "cell_type": "code",
   "execution_count": 30,
   "metadata": {},
   "outputs": [
    {
     "data": {
      "text/plain": [
       "array([2, 1, 1, 1, 1, 2, 0, 2, 2, 2])"
      ]
     },
     "execution_count": 30,
     "metadata": {},
     "output_type": "execute_result"
    }
   ],
   "source": [
    "labels = model.labels_\n",
    "labels[:10]"
   ]
  },
  {
   "cell_type": "code",
   "execution_count": 31,
   "metadata": {},
   "outputs": [
    {
     "data": {
      "text/html": [
       "<div>\n",
       "<style scoped>\n",
       "    .dataframe tbody tr th:only-of-type {\n",
       "        vertical-align: middle;\n",
       "    }\n",
       "\n",
       "    .dataframe tbody tr th {\n",
       "        vertical-align: top;\n",
       "    }\n",
       "\n",
       "    .dataframe thead th {\n",
       "        text-align: right;\n",
       "    }\n",
       "</style>\n",
       "<table border=\"1\" class=\"dataframe\">\n",
       "  <thead>\n",
       "    <tr style=\"text-align: right;\">\n",
       "      <th></th>\n",
       "      <th>restaurant</th>\n",
       "      <th>item</th>\n",
       "      <th>calories</th>\n",
       "      <th>total_fat</th>\n",
       "      <th>cholesterol</th>\n",
       "      <th>sodium</th>\n",
       "      <th>total_carb</th>\n",
       "      <th>fiber</th>\n",
       "      <th>sugar</th>\n",
       "      <th>protein</th>\n",
       "      <th>vit_a</th>\n",
       "      <th>vit_c</th>\n",
       "      <th>calcium</th>\n",
       "      <th>labels</th>\n",
       "    </tr>\n",
       "  </thead>\n",
       "  <tbody>\n",
       "    <tr>\n",
       "      <th>145</th>\n",
       "      <td>Arbys</td>\n",
       "      <td>Buttermilk Chicken Bacon &amp; Swiss</td>\n",
       "      <td>650</td>\n",
       "      <td>31</td>\n",
       "      <td>90</td>\n",
       "      <td>1750</td>\n",
       "      <td>56</td>\n",
       "      <td>2.0</td>\n",
       "      <td>9</td>\n",
       "      <td>39.0</td>\n",
       "      <td>70.655184</td>\n",
       "      <td>99.970342</td>\n",
       "      <td>87.921816</td>\n",
       "      <td>1</td>\n",
       "    </tr>\n",
       "    <tr>\n",
       "      <th>481</th>\n",
       "      <td>Taco Bell</td>\n",
       "      <td>Beefy Cheddar Crunchwrap Slider</td>\n",
       "      <td>410</td>\n",
       "      <td>19</td>\n",
       "      <td>25</td>\n",
       "      <td>960</td>\n",
       "      <td>46</td>\n",
       "      <td>4.0</td>\n",
       "      <td>3</td>\n",
       "      <td>14.0</td>\n",
       "      <td>70.655184</td>\n",
       "      <td>99.970342</td>\n",
       "      <td>87.921816</td>\n",
       "      <td>0</td>\n",
       "    </tr>\n",
       "    <tr>\n",
       "      <th>308</th>\n",
       "      <td>Subway</td>\n",
       "      <td>6\" Big Hot Pastrami</td>\n",
       "      <td>580</td>\n",
       "      <td>31</td>\n",
       "      <td>85</td>\n",
       "      <td>1470</td>\n",
       "      <td>47</td>\n",
       "      <td>5.0</td>\n",
       "      <td>7</td>\n",
       "      <td>29.0</td>\n",
       "      <td>10.000000</td>\n",
       "      <td>45.000000</td>\n",
       "      <td>40.000000</td>\n",
       "      <td>2</td>\n",
       "    </tr>\n",
       "  </tbody>\n",
       "</table>\n",
       "</div>"
      ],
      "text/plain": [
       "    restaurant                              item  calories  total_fat  \\\n",
       "145      Arbys  Buttermilk Chicken Bacon & Swiss       650         31   \n",
       "481  Taco Bell   Beefy Cheddar Crunchwrap Slider       410         19   \n",
       "308     Subway               6\" Big Hot Pastrami       580         31   \n",
       "\n",
       "     cholesterol  sodium  total_carb  fiber  sugar  protein      vit_a  \\\n",
       "145           90    1750          56    2.0      9     39.0  70.655184   \n",
       "481           25     960          46    4.0      3     14.0  70.655184   \n",
       "308           85    1470          47    5.0      7     29.0  10.000000   \n",
       "\n",
       "         vit_c    calcium  labels  \n",
       "145  99.970342  87.921816       1  \n",
       "481  99.970342  87.921816       0  \n",
       "308  45.000000  40.000000       2  "
      ]
     },
     "execution_count": 31,
     "metadata": {},
     "output_type": "execute_result"
    }
   ],
   "source": [
    "df['labels'] = labels\n",
    "df.sample(3)"
   ]
  },
  {
   "attachments": {},
   "cell_type": "markdown",
   "metadata": {},
   "source": [
    "Segmenting data into Healthy food and Unhealthy food"
   ]
  },
  {
   "cell_type": "code",
   "execution_count": 32,
   "metadata": {},
   "outputs": [],
   "source": [
    "import seaborn as sn"
   ]
  },
  {
   "attachments": {},
   "cell_type": "markdown",
   "metadata": {},
   "source": [
    "Droping cal_fat and sat_fat we will consider only total fat for further computatio"
   ]
  },
  {
   "cell_type": "code",
   "execution_count": 33,
   "metadata": {},
   "outputs": [
    {
     "name": "stdout",
     "output_type": "stream",
     "text": [
      "label 0 198\n",
      "label 1 98\n",
      "label 2 201\n",
      "label 3 18\n"
     ]
    }
   ],
   "source": [
    "label_0 = df[df['labels']==0]\n",
    "label_1 = df[df['labels']==1]\n",
    "label_2 = df[df['labels']==2]\n",
    "label_3 = df[df['labels']==3]\n",
    "print(\"label 0\",len(label_0))\n",
    "print(\"label 1\",len(label_1))\n",
    "print(\"label 2\",len(label_2))\n",
    "print(\"label 3\",len(label_3))"
   ]
  },
  {
   "attachments": {},
   "cell_type": "markdown",
   "metadata": {},
   "source": [
    "Average Nutrition"
   ]
  },
  {
   "cell_type": "code",
   "execution_count": 34,
   "metadata": {},
   "outputs": [],
   "source": [
    "nutritions = list(label_0.describe().columns)\n",
    "label_0_nutri_avg = label_0.describe().mean().values\n",
    "label_1_nutri_avg = label_1.describe().mean().values\n",
    "label_2_nutri_avg = label_2.describe().mean().values\n",
    "label_3_nutri_avg = label_3.describe().mean().values"
   ]
  },
  {
   "cell_type": "code",
   "execution_count": 35,
   "metadata": {},
   "outputs": [
    {
     "data": {
      "image/png": "[encoded data removed]",
      "text/plain": [
       "<Figure size 640x480 with 1 Axes>"
      ]
     },
     "metadata": {},
     "output_type": "display_data"
    }
   ],
   "source": [
    "# label 0\n",
    "sn.barplot(x=nutritions,y=label_0_nutri_avg)\n",
    "plt.title(\"Nutritions in average for label 0\")\n",
    "plt.xticks(rotation=90)\n",
    "plt.ylim([0,3000])\n",
    "plt.show()"
   ]
  },
  {
   "cell_type": "code",
   "execution_count": 36,
   "metadata": {},
   "outputs": [
    {
     "data": {
      "image/png": "[encoded data removed]",
      "text/plain": [
       "<Figure size 640x480 with 1 Axes>"
      ]
     },
     "metadata": {},
     "output_type": "display_data"
    }
   ],
   "source": [
    "# label 1\n",
    "sn.barplot(x=nutritions,y=label_1_nutri_avg)\n",
    "plt.title(\"Nutritions in average for label 1\")\n",
    "plt.xticks(rotation=90)\n",
    "plt.ylim([0,3000])\n",
    "plt.show()"
   ]
  },
  {
   "cell_type": "code",
   "execution_count": 37,
   "metadata": {},
   "outputs": [
    {
     "data": {
      "image/png": "[encoded data removed]",
      "text/plain": [
       "<Figure size 640x480 with 1 Axes>"
      ]
     },
     "metadata": {},
     "output_type": "display_data"
    }
   ],
   "source": [
    "# label 2\n",
    "sn.barplot(x=nutritions,y=label_2_nutri_avg)\n",
    "plt.title(\"Nutritions in average for label 2\")\n",
    "plt.xticks(rotation=90)\n",
    "plt.ylim([0,3000])\n",
    "plt.show()"
   ]
  },
  {
   "attachments": {},
   "cell_type": "markdown",
   "metadata": {},
   "source": [
    "Seperate Positive Nutrition amd Negative Nutrition"
   ]
  },
  {
   "cell_type": "code",
   "execution_count": 38,
   "metadata": {},
   "outputs": [],
   "source": [
    "positive_ntr = ['protein','calcium','total_carb','vit_a','vit_c','fiber']\n",
    "negative_ntr = ['sugar','calories','total_fat','sodium','cholesterol']"
   ]
  },
  {
   "cell_type": "code",
   "execution_count": 56,
   "metadata": {},
   "outputs": [
    {
     "name": "stdout",
     "output_type": "stream",
     "text": [
      "label_0_zipped {'calories': 284.565853125518, 'total_fat': 38.8221736070514, 'cholesterol': 65.06166896101948, 'sodium': 519.3294115532656, 'total_carb': 51.3806031862152, 'fiber': 35.07344277032587, 'sugar': 29.420602585977285, 'protein': 38.32580545912687, 'vit_a': 73.26778613317569, 'vit_c': 81.79601287982078, 'calcium': 64.62109647845732, 'labels': 24.75}\n",
      "\n",
      "\n",
      "label_1_zipped {'calories': 646.3528332826143, 'total_fat': 51.6346902054411, 'cholesterol': 181.2149470460958, 'sodium': 1545.5774154854275, 'total_carb': 66.69882916384057, 'fiber': 26.190064985926586, 'sugar': 25.13430568804795, 'protein': 53.712636790339644, 'vit_a': 44.282590875757165, 'vit_c': 97.96417380567384, 'calcium': 87.42972417857777, 'labels': 13.0}\n",
      "\n",
      "\n",
      "label_2_zipped {'calories': 472.02917858344045, 'total_fat': 49.076707524835186, 'cholesterol': 88.87289844483453, 'sodium': 993.6679365853396, 'total_carb': 65.64652802890258, 'fiber': 36.8218924615535, 'sugar': 34.07306584697652, 'protein': 48.91445254658747, 'vit_a': 69.67027788747987, 'vit_c': 65.96102436772374, 'calcium': 63.642995934213566, 'labels': 26.625}\n",
      "\n",
      "\n",
      "label_3_zipped {'calories': 1011.3756829141173, 'total_fat': 55.959933745704, 'cholesterol': 173.92182165546103, 'sodium': 2885.425139906712, 'total_carb': 72.8102846219574, 'fiber': 7.871882989529226, 'sugar': 20.9754244063496, 'protein': 67.80956215650343, 'vit_a': 22.401570914974215, 'vit_c': 37.87450995310717, 'calcium': 39.659919351158976, 'labels': 4.5}\n"
     ]
    }
   ],
   "source": [
    "def zipper(lis1,lis2):\n",
    "    temp = {}\n",
    "    for v1,v2 in zip(lis1,lis2):\n",
    "        temp[v1] = v2\n",
    "    return temp\n",
    "\n",
    "label_0_dic = zipper(nutritions,label_0_nutri_avg)\n",
    "label_1_dic = zipper(nutritions,label_1_nutri_avg)\n",
    "label_2_dic = zipper(nutritions,label_2_nutri_avg)\n",
    "label_3_dic = zipper(nutritions,label_3_nutri_avg)\n",
    "\n",
    "print(\"label_0_zipped\",label_0_dic)\n",
    "print(\"\\n\\nlabel_1_zipped\",label_1_dic)\n",
    "print(\"\\n\\nlabel_2_zipped\",label_2_dic)\n",
    "print(\"\\n\\nlabel_3_zipped\",label_3_dic)"
   ]
  },
  {
   "cell_type": "code",
   "execution_count": 57,
   "metadata": {},
   "outputs": [],
   "source": [
    "pn_avg_label_0 = {}\n",
    "pn_avg_label_1 = {}\n",
    "pn_avg_label_2 = {}\n",
    "pn_avg_label_3 = {}\n",
    "for i in range(3):\n",
    "    lis1 = []\n",
    "    lis2 = []\n",
    "    lis3 = []\n",
    "    lis4 = []\n",
    "    for pos_val in positive_ntr:\n",
    "        lis1.append(label_0_dic[pos_val])\n",
    "        lis2.append(label_1_dic[pos_val])\n",
    "        lis3.append(label_2_dic[pos_val])\n",
    "        lis4.append(label_3_dic[pos_val])\n",
    "    pn_avg_label_0['pos'] = sum(lis1)/len(lis1)\n",
    "    pn_avg_label_1['pos'] = sum(lis2)/len(lis2)\n",
    "    pn_avg_label_2['pos'] = sum(lis3)/len(lis3)\n",
    "    pn_avg_label_3['pos'] = sum(lis4)/len(lis4)\n",
    "for i in range(3):\n",
    "    lis1 = []\n",
    "    lis2 = []\n",
    "    lis3 = []\n",
    "    lis4 = []\n",
    "    for pos_val in negative_ntr:\n",
    "        lis1.append(label_0_dic[pos_val])\n",
    "        lis2.append(label_1_dic[pos_val])\n",
    "        lis3.append(label_2_dic[pos_val])\n",
    "        lis4.append(label_3_dic[pos_val])\n",
    "    pn_avg_label_0['neg'] = sum(lis1)/len(lis1)\n",
    "    pn_avg_label_1['neg'] = sum(lis2)/len(lis2)\n",
    "    pn_avg_label_2['neg'] = sum(lis3)/len(lis3)\n",
    "    pn_avg_label_3['neg'] = sum(lis4)/len(lis4)    "
   ]
  },
  {
   "cell_type": "code",
   "execution_count": 58,
   "metadata": {},
   "outputs": [],
   "source": [
    "pos = [pn_avg_label_0['pos'],pn_avg_label_1['pos'],pn_avg_label_2['pos'],pn_avg_label_3['pos']]\n",
    "neg = [pn_avg_label_0['neg'],pn_avg_label_1['neg'],pn_avg_label_2['neg'],pn_avg_label_3['neg']]"
   ]
  },
  {
   "cell_type": "code",
   "execution_count": 59,
   "metadata": {},
   "outputs": [],
   "source": [
    "labels = [\"label_0\",\"label_1\",\"label_2\",\"label_3\"]"
   ]
  },
  {
   "attachments": {},
   "cell_type": "markdown",
   "metadata": {},
   "source": [
    "Positive Nutrition Average"
   ]
  },
  {
   "cell_type": "code",
   "execution_count": 60,
   "metadata": {},
   "outputs": [
    {
     "data": {
      "image/png": "[encoded data removed]",
      "text/plain": [
       "<Figure size 640x480 with 1 Axes>"
      ]
     },
     "metadata": {},
     "output_type": "display_data"
    }
   ],
   "source": [
    "data = pos\n",
    "  \n",
    "palette_color = sn.color_palette('bright')\n",
    "explode = [0,0.1,0,0]\n",
    "plt.pie(data, explode = explode, labels=labels, colors=palette_color, autopct='%.0f%%')\n",
    "plt.title(\"positive neutrition distribution\")\n",
    "plt.show()"
   ]
  },
  {
   "cell_type": "code",
   "execution_count": 62,
   "metadata": {},
   "outputs": [
    {
     "data": {
      "image/png": "[encoded data removed]",
      "text/plain": [
       "<Figure size 640x480 with 1 Axes>"
      ]
     },
     "metadata": {},
     "output_type": "display_data"
    }
   ],
   "source": [
    "sn.barplot(x=labels,y=pos)\n",
    "plt.title(\"positive nutritions average value for 4 clusters\")\n",
    "plt.xlabel(\"cluster or labels\")\n",
    "plt.ylabel(\"average value of positive nutritions\")\n",
    "plt.show()"
   ]
  },
  {
   "attachments": {},
   "cell_type": "markdown",
   "metadata": {},
   "source": [
    "Negative Nutrition Average"
   ]
  },
  {
   "cell_type": "code",
   "execution_count": 63,
   "metadata": {},
   "outputs": [
    {
     "data": {
      "image/png": "[encoded data removed]",
      "text/plain": [
       "<Figure size 640x480 with 1 Axes>"
      ]
     },
     "metadata": {},
     "output_type": "display_data"
    }
   ],
   "source": [
    "data = neg\n",
    "  \n",
    "palette_color = sn.color_palette('bright')\n",
    "explode = [0.3,0,0,0]\n",
    "plt.pie(data, explode=explode, labels=labels, colors=palette_color, autopct='%.0f%%')\n",
    "plt.title(\"negative neutrition distribution\")\n",
    "plt.show()"
   ]
  },
  {
   "cell_type": "code",
   "execution_count": 64,
   "metadata": {},
   "outputs": [
    {
     "data": {
      "image/png": "[encoded data removed]",
      "text/plain": [
       "<Figure size 640x480 with 1 Axes>"
      ]
     },
     "metadata": {},
     "output_type": "display_data"
    }
   ],
   "source": [
    "sn.barplot(x = labels,y=neg)\n",
    "plt.title(\"negative nutritions average value for 4 clusters\")\n",
    "plt.xlabel(\"cluster or labels\")\n",
    "plt.ylabel(\"average value of negative nutritions\")\n",
    "plt.show()"
   ]
  },
  {
   "attachments": {},
   "cell_type": "markdown",
   "metadata": {},
   "source": [
    "Healthiest Foods"
   ]
  },
  {
   "cell_type": "code",
   "execution_count": 65,
   "metadata": {},
   "outputs": [
    {
     "data": {
      "text/plain": [
       "array(['Cheeseburger', 'Filet-O-Fish®', 'Garlic White Cheddar Burger',\n",
       "       'Hamburger', 'Lobster Roll', 'McChicken', 'McDouble', 'McRib',\n",
       "       '3 piece Buttermilk Crispy Chicken Tenders',\n",
       "       '4 Piece Chicken McNuggets', '6 Piece Chicken McNuggets',\n",
       "       '10 Piece Chicken McNuggets', 'Premium Asian Salad w/o Chicken',\n",
       "       'Premium Asian Salad w/ Grilled Chicken',\n",
       "       'Premium Bacon Ranch Salad w/o Chicken',\n",
       "       'Premium Southwest Salad w/o Chicken',\n",
       "       'Chargrilled Chicken Sandwich', 'Chick-n-Slider',\n",
       "       '1 Piece Chick-n-Strips', '2 Piece Chick-n-Strips',\n",
       "       '3 Piece Chick-n-Strips', '4 piece Chicken Nuggets',\n",
       "       '6 piece Chicken Nuggets', '8 piece Chicken Nuggets',\n",
       "       '4 Piece Grilled Chicken Nuggets',\n",
       "       '6 Piece Grilled Chicken Nuggets',\n",
       "       '8 piece Grilled Chicken Nuggets',\n",
       "       '12 Piece Grilled Chicken Nuggets',\n",
       "       'Chargrilled Chicken Cool Wrap', 'Jr. Burger',\n",
       "       'Jr. Chili Cheeseburger', 'Jr. Deluxe Burger',\n",
       "       'Jr. Deluxe Cheeseburger', 'Sonic Burger W/ Mustard',\n",
       "       'Sonic Burger W/ Ketchup', 'Sonic Burger W/ Mayonnaise',\n",
       "       'Grilled Chicken Sandwich', 'Chicken Strip Sandwich',\n",
       "       '3 Piece Crispy Chicken Tender Dinner',\n",
       "       'Small Spicy Jumbo Popcorn Chicken',\n",
       "       '3 Piece Super Crunch Chicken Strips',\n",
       "       '4 Piece Super Crunch Chicken Strips',\n",
       "       'All Beef Regular Hot Dog – 6\"', 'Corn Dog',\n",
       "       'The Original Pretzel Dog', \"Arby's Melt\", 'Classic Roast Beef',\n",
       "       '2 piece Prime-Cut Chicken Tenders',\n",
       "       '3 piece Prime-Cut Chicken Tenders', 'Buffalo Chicken Slider',\n",
       "       \"Chicken Tender 'n Cheese Slider\", \"Corned Beef 'n Cheese Slider\",\n",
       "       \"Ham 'n Cheese Slider\", \"Jalapeno Roast Beef 'n Cheese Slider\",\n",
       "       'Pizza Slider', \"Roast Beef 'n Cheese Slider\",\n",
       "       \"Turkey 'n Cheese Slider\", 'Chopped Side Salad',\n",
       "       'Greek Gyro Salad', 'Roast Turkey Farmhouse Salad',\n",
       "       'Bacon Cheeseburger', 'Bacon Cheeseburger Deluxe',\n",
       "       'Double Hamburger', 'Rodeo Burger', 'WHOPPER JR. w/o Cheese',\n",
       "       'WHOPPER JR. w/ Cheese',\n",
       "       'Garden Grilled Chicken Salad w/ Grilled Chicken, no dressing',\n",
       "       'Side Caesar Salad with dressing',\n",
       "       'Side Garden Salad and Avocado Ranch Dressing',\n",
       "       'BBQ Bacon Crispy Chicken Sandwich', 'Chicken Fries',\n",
       "       '4 Piece Chicken Nuggets', '6 Piece Chicken Nuggets',\n",
       "       'Chicken Nuggets (10pc)', 'Crispy Chicken Jr.',\n",
       "       'Grilled Chili Cheese Dog', 'Grilled Hot Dog',\n",
       "       'Jalapeno Chicken Fries', 'Rodeo Crispy Chicken Sandwich',\n",
       "       '4 Piece Spicy Chicken Nuggets', 'Spicy Crispy Chicken Jr.',\n",
       "       '1/4 lb. Mushroom Swiss GrillBurger', 'Original Cheeseburger',\n",
       "       'Chili Cheese Dog', 'Hot Dog', 'Relish Dog',\n",
       "       'Barbecue Pork Sandwich', 'Breaded Mushrooms',\n",
       "       'Regular Cheese Curds', 'Deluxe Cheeseburger',\n",
       "       'Deluxe Double Hamburger', 'Deluxe Hamburger',\n",
       "       '3 chicken strips Chicken Strips',\n",
       "       'Crispy Chicken Garden Greens Salad', 'Crispy Chicken Wrap',\n",
       "       'Grilled Chicken Garden Greens Salad', 'Grilled Chicken Wrap',\n",
       "       'Side Salad', '6\" B.L.T.', '6\" BBQ Rib Sandwich',\n",
       "       'Kids Mini Sub Black Forest Ham', '6\" Black Forest Ham',\n",
       "       '6\" Carved Turkey', '6\" Oven Roasted Chicken',\n",
       "       'Kids Mini Sub Roast Beef', '6\" Roast Beef',\n",
       "       '6\" Rotisserie Style Chicken', '6\" Subway Club',\n",
       "       '6\" Subway Seafood Sensation', '6\" Sweet Onion Chicken Teriyaki',\n",
       "       '6\" Tuna', '6\" Turkey & Bacon Avocado',\n",
       "       'Kids Mini Sub Turkey Breast', '6\" Turkey Breast',\n",
       "       '6\" Turkey Breast & Ham', 'Kids Mini Sub Veggie Delite',\n",
       "       '6\" Veggie Delite', 'Footlong Veggie Delite', '6\" Veggie Patty',\n",
       "       'B.L.T. Salad', 'Black Forest Ham Salad', 'Carved Turkey Salad',\n",
       "       'Cold Cut Combo Salad', 'Double Chicken Salad',\n",
       "       'Meatball Marinara Salad', 'Oven Roasted Chicken Salad',\n",
       "       'Roast Beef Salad', 'Steak & Cheese Salad', 'Subway Club Salad',\n",
       "       'Subway Melt® Salad', 'Sweet Onion Chicken Teriyaki Salad',\n",
       "       'Tuna Salad', 'Turkey Breast & Ham Salad', 'Turkey Breast Salad',\n",
       "       'Veggie Delite Salad', 'Bean Burrito',\n",
       "       'Cheesy Bean and Rice Burrito', 'Chili Cheese Burrito',\n",
       "       'Shredded Chicken Burrito', 'Chicken Soft Taco',\n",
       "       'Cool Ranch® Doritos® Double Decker® Taco',\n",
       "       'Cool Ranch® Doritos® Locos Taco',\n",
       "       'Cool Ranch® Doritos® Locos Taco Supreme', 'Crunchy Taco',\n",
       "       'Crunchy Taco Supreme®', 'Double Decker® Taco',\n",
       "       'DOUBLE DECKER® Taco Supreme®', 'Spicy Sweet Double Stacked Taco',\n",
       "       'Cool Ranch Habanero Double Stacked Taco',\n",
       "       'Nacho Crunch Double Stacked Taco',\n",
       "       'Fiery Doritos® Double Decker® Taco', 'Fiery Doritos® Locos Taco',\n",
       "       'Fiery Doritos® Locos Taco Supreme', 'Grilled Steak Soft Taco',\n",
       "       'Nacho Cheese Doritos® Double Decker® Taco',\n",
       "       'Nacho Cheese Doritos® Locos Tacos',\n",
       "       'Nacho Cheese Doritos® Locos Tacos Supreme',\n",
       "       'Soft Taco Supreme® – Beef', 'Soft Taco-Beef',\n",
       "       'Spicy Potato Soft Taco', 'Chalupa Supreme® - Chicken',\n",
       "       'Chalupa Supreme® - Steak', 'Chalupa Supreme®–Beef',\n",
       "       'Fresco Bean Burrito', 'Fresco Chicken Soft Taco',\n",
       "       'Fresco Crunchy Taco', 'Fresco Grilled Steak Soft Taco',\n",
       "       'Fresco Soft Taco', 'Cheesy Gordita Crunch',\n",
       "       'Doritos® Cheesy Gordita Crunch - Cool Ranch',\n",
       "       'Doritos® Cheesy Gordita Crunch - Fiery',\n",
       "       'Doritos® Cheesy Gordita Crunch - Nacho Cheese',\n",
       "       'Gordita Supreme® – Beef', 'Gordita Supreme® - Chicken',\n",
       "       'Gordita Supreme® - Steak', 'Nachos Supreme',\n",
       "       'Triple Layer Nachos', 'Triple Melt Nachos',\n",
       "       'Beefy Cheddar Crunchwrap Slider', 'Beefy Mini Quesadilla',\n",
       "       'Beefy Nacho Griller', 'BLT Crunchwrap Slider', 'Cheese Roll-Up',\n",
       "       'Chipotle Crispy Chicken Griller', 'Double Tostada',\n",
       "       'Mexican Pizza', 'MexiMelt®', 'Steak Quesalupa',\n",
       "       'Chicken Quesalupa', 'Beef Quesalupa',\n",
       "       'Shredded Chicken Mini Quesadilla',\n",
       "       'Spicy Chicken Crunchwrap Slider', 'Spicy Tostada'], dtype=object)"
      ]
     },
     "execution_count": 65,
     "metadata": {},
     "output_type": "execute_result"
    }
   ],
   "source": [
    "label_0['item'].unique()"
   ]
  },
  {
   "attachments": {},
   "cell_type": "markdown",
   "metadata": {},
   "source": [
    "Worst Food"
   ]
  },
  {
   "cell_type": "code",
   "execution_count": 66,
   "metadata": {},
   "outputs": [
    {
     "data": {
      "text/plain": [
       "array(['10 piece Buttermilk Crispy Chicken Tenders',\n",
       "       '12 piece Buttermilk Crispy Chicken Tenders',\n",
       "       '20 piece Buttermilk Crispy Chicken Tenders',\n",
       "       '40 piece Chicken McNuggets',\n",
       "       \"10 piece Sweet N' Spicy Honey BBQ Glazed Tenders\",\n",
       "       '30 piece Chicken Nuggets',\n",
       "       'Buffalo Dunked Ultimate Chicken Sandwich',\n",
       "       'Half Pound French Dip & Swiss', 'Triple Decker Sandwich',\n",
       "       '4 Piece Chicken Strip Basket w/ Country Gravy',\n",
       "       '6 Piece Chicken Strip Basket w/ Country Gravy',\n",
       "       'Footlong Big Hot Pastrami',\n",
       "       'Footlong Carved Turkey & Bacon w/ Cheese',\n",
       "       'Footlong Corned Beef Reuben', 'Footlong Italian Hero',\n",
       "       'Footlong Spicy Italian',\n",
       "       'Footlong Turkey Italiano Melt (with Provolone)',\n",
       "       'Turkey, Bacon & Guacamole Wrap'], dtype=object)"
      ]
     },
     "execution_count": 66,
     "metadata": {},
     "output_type": "execute_result"
    }
   ],
   "source": [
    "label_3['item'].unique()"
   ]
  },
  {
   "attachments": {},
   "cell_type": "markdown",
   "metadata": {},
   "source": [
    "Medium Heathy food"
   ]
  },
  {
   "cell_type": "code",
   "execution_count": 68,
   "metadata": {},
   "outputs": [
    {
     "data": {
      "text/plain": [
       "array(['Single Bacon Smokehouse Burger', 'Double Bacon Smokehouse Burger',\n",
       "       'Grilled Bacon Smokehouse Chicken Sandwich',\n",
       "       'Crispy Bacon Smokehouse Chicken Sandwich',\n",
       "       'Grilled Maple Bacon Dijon Chicken Sandwich',\n",
       "       'Crispy Maple Bacon Dijon Chicken Sandwich',\n",
       "       'Grilled Sweet BBQ Bacon Chicken Sandwich',\n",
       "       'Crispy Sweet BBQ Bacon Chicken Sandwich',\n",
       "       '6 piece Buttermilk Crispy Chicken Tenders',\n",
       "       '20 Piece Chicken McNuggets',\n",
       "       \"4 piece Sweet N' Spicy Honey BBQ Glazed Tenders\",\n",
       "       \"6 piece Sweet N' Spicy Honey BBQ Glazed Tenders\", 'Spicy Deluxe',\n",
       "       'Chicken Enchiladas Meal Kit', 'Chicken Parmesan Meal Kit',\n",
       "       'Super Sonic Bacon Double Cheeseburger (w/mayo)',\n",
       "       'Super Sonic Double Cheeseburger W/ Mustard',\n",
       "       'Super Sonic Double Cheeseburger W/ Ketchup',\n",
       "       'Super Sonic Double Cheeseburger W/ Mayo',\n",
       "       'Super Sonic Jalapeno Double Cheeseburger',\n",
       "       'Garlic Parmesan Dunked Ultimate Chicken Sandwich',\n",
       "       'Large Jumbo Popcorn Chicken',\n",
       "       '3 Piece Super Crunch Chicken Strip Dinner',\n",
       "       '4 Piece Super Crunch Chicken Strip Dinner',\n",
       "       '5 Piece Super Crunch Chicken Strip Dinner',\n",
       "       'Ultimate Chicken Club', 'All Beef Chicago Dog – 6\"',\n",
       "       'Footlong Quarter Pound Coney', \"Beef 'n Cheddar Mid\",\n",
       "       'Bourbon BBQ Chicken Sandwich', 'Bourbon BBQ Steak Sandwich',\n",
       "       'Buttermilk Buffalo Chicken Sandwich',\n",
       "       'Buttermilk Chicken Bacon & Swiss',\n",
       "       'Buttermilk Chicken Cordon Bleu Sandwich',\n",
       "       'Classic French Dip & Swiss/Au Jus', 'Fire-Roasted Philly Steak',\n",
       "       \"Half Pound Beef 'n Cheddar Sandwich\",\n",
       "       'Half Pound Roast Beef Sandwich', 'Loaded Italian Sandwich',\n",
       "       'Reuben Sandwich', 'Roast Turkey & Swiss Sandwich',\n",
       "       'Roast Turkey, Ranch & Bacon Sandwich',\n",
       "       'Roast Turkey, Ranch & Bacon Wrap',\n",
       "       'Smoke Mountain w/ Beef Short Rib', 'Three Cheese Steak Sandwich',\n",
       "       'Turkey Avocado Club', 'Ultimate BLT', 'American Brewhouse King',\n",
       "       'Bacon King', 'Bacon King Jr', 'BBQ Bacon King',\n",
       "       'Double Quarter Pound King', 'Farmhouse King',\n",
       "       'Jalapeno King Sandwich', 'Rodeo King', 'Sourdough King Double',\n",
       "       'Steakhouse King',\n",
       "       'Bacon Cheddar Ranch Chicken Salad w/ crispy Chicken & Dressing',\n",
       "       'Chicken BLT Salad w/ Crispy Chicken',\n",
       "       'Chicken Caesar Salad w/ Crispy Chicken',\n",
       "       'Bacon Cheddar Ranch Crispy Chicken Sandwich',\n",
       "       'Chicken Cordon Bleu Sandwich', '20 Piece Chicken Nuggets',\n",
       "       'Crispy Buffalo Chicken Melt', 'Sourdough Chicken Club',\n",
       "       'Spicy Crispy Jalapeno Chicken Sandwich',\n",
       "       '1/2 lb. FlameThrower® GrillBurger', 'Large Cheese Curds',\n",
       "       'Steak Finger Basket', 'Footlong Big Philly Cheesesteak',\n",
       "       'Footlong Black Forest Ham', 'Footlong Carved Turkey',\n",
       "       'Footlong Chicken & Bacon Ranch Melt',\n",
       "       'Footlong Chicken Pizziola Melt', 'Footlong Cold Cut Combo',\n",
       "       '6\" Corned Beef Reuben', 'Footlong Italian B.M.T.',\n",
       "       'Footlong Meatball Marinara', 'Footlong Steak and Cheese',\n",
       "       'Footlong Subway Club', 'Footlong Sweet Onion Chicken Teriyaki',\n",
       "       'Footlong Turkey & Bacon Avocado', 'Footlong Veggie Patty',\n",
       "       'Chipotle Southwest Steak & Cheese Wrap',\n",
       "       'Rotisserie-Style Chicken Caesar Wrap',\n",
       "       'Cantina Power Burrito - Chicken', 'Cantina Power Burrito - Steak',\n",
       "       'Cantina Power Burrito - Veggie', 'Smothered Burrito - Beef',\n",
       "       'Smothered Burrito - Shredded Chicken',\n",
       "       'Smothered Burrito - Steak', 'Chicken Spicy Cheesy Core Burrito',\n",
       "       'Steak Spicy Cheesy Core Burrito',\n",
       "       'Beef Spicy Cheesy Core Burrito',\n",
       "       'XXL Grilled Stuft Burrito - Beef',\n",
       "       'XXL Grilled Stuft Burrito - Chicken',\n",
       "       'XXL Grilled Stuft Burrito - Steak',\n",
       "       'Spicy Triple Double Crunchwrap'], dtype=object)"
      ]
     },
     "execution_count": 68,
     "metadata": {},
     "output_type": "execute_result"
    }
   ],
   "source": [
    "label_1['item'].unique()"
   ]
  },
  {
   "cell_type": "code",
   "execution_count": 69,
   "metadata": {},
   "outputs": [
    {
     "data": {
      "text/plain": [
       "array(['Artisan Grilled Chicken Sandwich', 'Big Mac',\n",
       "       'Classic Chicken Sandwich', 'Double Cheeseburger',\n",
       "       'Double Quarter Pounder® with Cheese',\n",
       "       'Grilled Garlic White Cheddar Chicken Sandwich',\n",
       "       'Crispy Garlic White Cheddar Chicken Sandwich',\n",
       "       'Maple Bacon Dijon 1/4 lb Burger', 'Pico Guacamole 1/4 lb Burger',\n",
       "       'Grilled Pico Guacamole Chicken Sandwich',\n",
       "       'Crispy Pico Guacamole Chicken Sandwich',\n",
       "       'Premium Buttermilk Crispy Chicken Deluxe Sandwich',\n",
       "       'Premium Crispy Chicken Deluxe Sandwich',\n",
       "       'Quarter Pounder® with Cheese', 'Signature Sriracha Burger',\n",
       "       'Grilled Signature Sriracha Chicken Sandwich',\n",
       "       'Crispy Signature Sriracha Chicken Sandwich',\n",
       "       'Sweet BBQ Bacon 1/4 lb Burger',\n",
       "       '4 piece Buttermilk Crispy Chicken Tenders',\n",
       "       'Premium Asian Salad w/ Crispy Chicken',\n",
       "       'Premium Bacon Ranch Salad w/ Grilled Chicken',\n",
       "       'Premium Bacon Ranch Salad w/ Crispy Chicken',\n",
       "       'Premium Southwest Salad w/ Grilled Chicken',\n",
       "       'Premium Southwest Salad w/ Crispy Chicken',\n",
       "       'Chargrilled Chicken Club Sandwich', '4 piece Chick-n-Strips',\n",
       "       'Chicken Deluxe', '12 piece Chicken Nuggets',\n",
       "       'Chicken Salad Sandwich', 'Chicken Sandwich',\n",
       "       'Spicy Grilled Chicken Sub Sandwich',\n",
       "       'Regular Grilled Chicken Sub Sandwich',\n",
       "       'Smokehouse BBQ Bacon Sandwich', 'Spicy Chicken Sandwich',\n",
       "       'Hatch Green Chile Cheeseburger', 'Jalapeno Burger',\n",
       "       'Jr. Double Cheeseburger', 'Sonic Bacon Cheeseburger (w/mayo)',\n",
       "       'Sonic Cheeseburger W/ Mustard', 'Sonic Cheeseburger W/ Ketchup',\n",
       "       'Sonic Cheeseburger W/ Mayonnaise', 'Veggie Burger W/ Ketchup',\n",
       "       'Veggie Burger With Mustard', 'Veggie Burger W/ Mustard',\n",
       "       'Grilled Asiago Caesar Chicken Club Sandwich',\n",
       "       'Crispy Asiago Caesar Chicken Club Sandwich',\n",
       "       'Crispy Chicken Sandwich', '5 Piece Crispy Chicken Tender Dinner',\n",
       "       'Deluxe Ultimate Chicken Sandwich', 'Small Jumbo Popcorn Chicken',\n",
       "       'Large Spicy Jumbo Popcorn Chicken',\n",
       "       '5 Piece Super Crunch Chicken Strips',\n",
       "       'Traditional Ultimate Chicken Sandwich',\n",
       "       'All Beef All-american Style Dog – 6\"',\n",
       "       'All Beef Chili Cheese Coney – 6\"', 'All Beef New York Dog – 6\"',\n",
       "       'Cheesy Bacon Pretzel Dog - 6 In.', 'Arby-Q Sandwich',\n",
       "       \"Beef 'n Cheddar Classic\", 'Bourbon BBQ Brisket Sandwich',\n",
       "       'Buttermilk Crispy Chicken Sandwich', 'Double Roast Beef',\n",
       "       'Grand Turkey Club', 'Greek Gyro', 'Ham & Swiss Melt',\n",
       "       'Pecan Chicken Salad Flatbread', 'Pecan Chicken Salad Sandwich',\n",
       "       '5 piece Prime-Cut Chicken Tenders', 'Roast Beef Gyro',\n",
       "       'Roast Turkey & Swiss Wrap', 'Smokehouse Beef Short Rib Sandwich',\n",
       "       'Smokehouse Brisket', 'Super Roast Beef', 'Turkey Gyro',\n",
       "       'Crispy Chicken Farmhouse Salad', 'Super Greek Salad',\n",
       "       'Bacon & Swiss Sourdough King', 'Double Bacon Cheeseburger',\n",
       "       'Extra Long Cheeseburger', 'Homestyle Cheeseburger',\n",
       "       'Mushroom & Swiss King', 'Sourdough King Single',\n",
       "       'Bacon & Cheese Whopper', 'DOUBLE WHOPPER w/o Cheese',\n",
       "       'DOUBLE WHOPPER w/ Cheese', 'WHOPPER w/o Cheese',\n",
       "       'WHOPPER w/ Cheese',\n",
       "       'Bacon Cheddar Ranch Chicken Salad w/ grilled Chicken & Dressing',\n",
       "       'Chicken BLT Salad w/ Grilled Chicken',\n",
       "       'Chicken Caesar Salad w/ Grilled Chicken',\n",
       "       'Chicken, Apple & Cranberry Salad w/ Grilled Chicken',\n",
       "       'Chicken, Apple & Cranberry Salad w/ Crispy Chicken',\n",
       "       'Garden Grilled Chicken Salad w/ Crispy Chicken, no dressing',\n",
       "       'Big Fish Sandwich', 'BK VEGGIE Burger', 'Chicken Burger',\n",
       "       'Chicken Parmesan Sandwich', 'Original Chicken Sandwich',\n",
       "       'Pretzel Chicken Fries', 'Spicy Chicken Nuggets',\n",
       "       'Spicy Crispy Chicken Sandwich', '1/2 lb. GrillBurger with Cheese',\n",
       "       '1/4 lb. Bacon Cheese GrillBurger',\n",
       "       '1/4 lb. GrillBurger with Cheese', 'Original Double Cheeseburger',\n",
       "       'Bacon Cheese Dog', 'Cheese Dog', 'Chili Dog',\n",
       "       'Chili Cheese Mega Dog', 'Crispy Fish Sandwich',\n",
       "       'Deluxe Double Cheeseburger', 'DQ Ultimate® Burger',\n",
       "       'Pork Tenderloin Sandwich', 'Chicken Bacon Ranch Sandwich',\n",
       "       'Chicken Mozzarella Sandwich', 'Crispy Chicken BLT Salad',\n",
       "       'Grilled Chicken BLT Salad', 'Grilled Chicken Sandwich',\n",
       "       'Turkey BLT Sandwich', 'Footlong B.L.T.',\n",
       "       'Footlong BBQ Rib Sandwich', '6\" Big Hot Pastrami',\n",
       "       '6\" Big Philly Cheesesteak', '6\" Carved Turkey & Bacon w/ Cheese',\n",
       "       '6\" Chicken & Bacon Ranch Melt', '6\" Chicken Pizziola Melt',\n",
       "       '6\" Cold Cut Combo', '6\" Italian B.M.T.', '6\" Italian Hero',\n",
       "       '6\" Meatball Marinara', 'Footlong Oven Roasted Chicken',\n",
       "       'Footlong Roast Beef', 'Footlong Rotisserie Style Chicken',\n",
       "       '6\" Spicy Italian', '6\" Steak and Cheese',\n",
       "       '6\" Subway Melt (includes cheese)',\n",
       "       'Footlong Subway Melt (includes cheese)',\n",
       "       'Footlong Subway Seafood Sensation', 'Footlong Tuna',\n",
       "       'Footlong Turkey Breast', 'Footlong Turkey Breast & Ham',\n",
       "       '6\" Turkey Italiano Melt (with Provolone)',\n",
       "       'Autumn Carved Turkey Salad', 'Big Hot Pastrami Melt Salad',\n",
       "       'Big Philly Cheesesteak Salad',\n",
       "       'Buffalo Chicken Salad (with Ranch dressing)',\n",
       "       'Carved Turkey & Bacon w/ Cheese Salad',\n",
       "       'Chicken & Bacon Ranch Melt Salad (includes Ranch dressing)',\n",
       "       'Italian B.M.T.® Salad', 'Italian Hero Salad',\n",
       "       'Spicy Italian Salad', 'Cheese & Veggies Pizza', 'Cheese Pizza',\n",
       "       'Pepperoni Pizza', 'Sausage Pizza',\n",
       "       '1/2 lb.* Cheesy Potato Burrito', '1/2 lb.* Combo Burrito',\n",
       "       '7-Layer Burrito', 'Beefy 5-Layer Burrito',\n",
       "       'Beefy Fritos® Burrito', 'Black Bean Burrito',\n",
       "       'Burrito Supreme® – Beef', 'Burrito Supreme® - Chicken',\n",
       "       'Burrito Supreme® - Steak', 'Chicken Crunchy Cheesy Core Burrito',\n",
       "       'Steak Crunchy Cheesy Core Burrito',\n",
       "       'Beef Crunchy Cheesy Core Burrito', 'Loaded Taco Burrito',\n",
       "       'Chicken Quesarito', 'Steak Quesarito', 'Beef Quesarito',\n",
       "       'Triple Melt Burrito', 'Double Chalupa',\n",
       "       'Wild Naked Chicken Chalupa', 'Mild Naked Chicken Chalupa',\n",
       "       'Spicy Double Chalupa', 'Fresco Burrito Supreme® – Chicken',\n",
       "       'Fresco Burrito Supreme® – Steak', 'Double Cheesy Gordita Crunch',\n",
       "       'Nacho Fries Bellgrande', 'Nachos BellGrande®',\n",
       "       'Cantina Power Bowl - Chicken', 'Cantina Power Bowl - Steak',\n",
       "       'Cantina Power Bowl - Veggie', 'Cheese Quesadilla',\n",
       "       'Chicken Quesadilla', 'Chickstar', 'Crispy Chicken Quesadilla',\n",
       "       'Crunchwrap Supreme®', 'Express Taco Salad w/ Chips',\n",
       "       'Loaded Potato Griller', 'Stacker', 'Steak Quesadilla',\n",
       "       'Original Triple Double Crunchwrap', 'Fiesta Taco Salad-Beef',\n",
       "       'Fiesta Taco Salad-Chicken', 'Fiesta Taco Salad-Steak'],\n",
       "      dtype=object)"
      ]
     },
     "execution_count": 69,
     "metadata": {},
     "output_type": "execute_result"
    }
   ],
   "source": [
    "label_2['item'].unique()"
   ]
  }
 ],
 "metadata": {
  "kernelspec": {
   "display_name": "Python 3",
   "language": "python",
   "name": "python3"
  },
  "language_info": {
   "codemirror_mode": {
    "name": "ipython",
    "version": 3
   },
   "file_extension": ".py",
   "mimetype": "text/x-python",
   "name": "python",
   "nbconvert_exporter": "python",
   "pygments_lexer": "ipython3",
   "version": "3.11.1"
  },
  "orig_nbformat": 4
 },
 "nbformat": 4,
 "nbformat_minor": 2
}
